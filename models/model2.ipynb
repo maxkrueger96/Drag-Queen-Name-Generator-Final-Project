{
 "cells": [
  {
   "cell_type": "code",
   "execution_count": 4,
   "metadata": {},
   "outputs": [],
   "source": [
    "import pandas as pd\n",
    "import numpy as np\n",
    "import os\n",
    "import string\n",
    "\n",
    "import matplotlib.pyplot as plt\n",
    "import plotly.graph_objects as go\n",
    "import plotly.figure_factory as ff\n",
    "\n",
    "import tensorflow as tf"
   ]
  },
  {
   "cell_type": "code",
   "execution_count": 5,
   "metadata": {},
   "outputs": [],
   "source": [
    "file_name = \"../data/drag-names.txt\"\n",
    "\n",
    "with open(file_name,'r') as f:\n",
    "    names = f.read().split(\"\\n\")[:-1]"
   ]
  },
  {
   "cell_type": "code",
   "execution_count": 6,
   "metadata": {},
   "outputs": [
    {
     "name": "stdout",
     "output_type": "stream",
     "text": [
      "Number of Names:  3281\n"
     ]
    }
   ],
   "source": [
    "MAX_LENGTH = 31\n",
    "names = [name for name in names if len(name)<=MAX_LENGTH]\n",
    "print(\"Number of Names: \",len(names))\n",
    "\n",
    "assert max(map(len,names))<=MAX_LENGTH, f\"Names length more than {MAX_LENGTH}\""
   ]
  },
  {
   "cell_type": "code",
   "execution_count": 7,
   "metadata": {},
   "outputs": [],
   "source": [
    "start_token = \" \"\n",
    "pad_token = \"#\"\n",
    "\n",
    "names = [start_token+name for name in names]\n",
    "MAX_LENGTH += 1\n",
    "\n",
    "tokens = sorted(set(\"\".join(names + [pad_token])))\n",
    "\n",
    "tokens = list(tokens)\n",
    "n_tokens = len(tokens)"
   ]
  },
  {
   "cell_type": "code",
   "execution_count": 8,
   "metadata": {},
   "outputs": [],
   "source": [
    "token_to_id = dict(zip(tokens,range(len(tokens))))\n",
    "\n",
    "def to_matrix(names, max_len=None, pad=token_to_id[pad_token], dtype=np.int32):\n",
    "    \"\"\"Casts a list of names into rnn-digestable padded matrix\"\"\"\n",
    "\n",
    "    max_len = max_len or max(map(len, names))\n",
    "    names_ix = np.zeros([len(names), max_len], dtype) + pad\n",
    "\n",
    "    for i in range(len(names)):\n",
    "        name_ix = list(map(token_to_id.get, names[i]))\n",
    "        names_ix[i, :len(name_ix)] = name_ix\n",
    "\n",
    "    return names_ix"
   ]
  },
  {
   "cell_type": "code",
   "execution_count": 9,
   "metadata": {},
   "outputs": [],
   "source": [
    "X = to_matrix(names)\n",
    "X_train = np.zeros((X.shape[0],X.shape[1],n_tokens),np.int32)\n",
    "y_train = np.zeros((X.shape[0],X.shape[1],n_tokens),np.int32)\n",
    "\n",
    "for i, name in enumerate(X):\n",
    "    for j in range(MAX_LENGTH-1):\n",
    "        X_train[i,j,name[j]] = 1\n",
    "        y_train[i,j,name[j+1]] = 1\n",
    "    X_train[i,MAX_LENGTH-1,name[MAX_LENGTH-1]] = 1\n",
    "    y_train[i,MAX_LENGTH-1,token_to_id[pad_token]] = 1"
   ]
  },
  {
   "cell_type": "code",
   "execution_count": 10,
   "metadata": {},
   "outputs": [],
   "source": [
    "strategy = tf.distribute.get_strategy()"
   ]
  },
  {
   "cell_type": "code",
   "execution_count": 11,
   "metadata": {},
   "outputs": [],
   "source": [
    "name_count = X.shape[0]\n",
    "\n",
    "BATCH_SIZE = 64\n",
    "\n",
    "STEPS_PER_EPOCH = np.ceil(name_count/BATCH_SIZE)\n",
    "\n",
    "AUTO = tf.data.experimental.AUTOTUNE\n",
    "ignore_order = tf.data.Options()\n",
    "ignore_order.experimental_deterministic = False"
   ]
  },
  {
   "cell_type": "code",
   "execution_count": 12,
   "metadata": {},
   "outputs": [],
   "source": [
    "train_dataset = (tf.data.Dataset.from_tensor_slices((X,y_train)).shuffle(5000).cache().repeat().batch(BATCH_SIZE).prefetch(AUTO))"
   ]
  },
  {
   "cell_type": "code",
   "execution_count": 13,
   "metadata": {},
   "outputs": [],
   "source": [
    "num_rnn_units = 256\n",
    "embedding_size = 16\n",
    "\n",
    "def make_model():\n",
    "    model = tf.keras.models.Sequential()\n",
    "\n",
    "    model.add(tf.keras.layers.Embedding(n_tokens,embedding_size,input_length=MAX_LENGTH))\n",
    "\n",
    "    model.add(tf.keras.layers.LSTM(num_rnn_units,return_sequences=True,activation='elu',input_shape=(X_train.shape[1],X_train.shape[2])))\n",
    "    model.add(tf.keras.layers.LSTM(num_rnn_units,return_sequences=True,activation='elu'))\n",
    "    model.add(tf.keras.layers.Dropout(0.2))\n",
    "    model.add(tf.keras.layers.LSTM(num_rnn_units,return_sequences=True,activation='elu'))\n",
    "    \n",
    "    model.add(tf.keras.layers.SimpleRNN(num_rnn_units,return_sequences=True,activation='elu'))\n",
    "    model.add(tf.keras.layers.SimpleRNN(num_rnn_units,return_sequences=True,activation='elu'))\n",
    "    model.add(tf.keras.layers.Dense(n_tokens,activation='softmax'))\n",
    "\n",
    "    model.compile(loss='categorical_crossentropy',optimizer=tf.keras.optimizers.Adam(0.001))\n",
    "\n",
    "    return model"
   ]
  },
  {
   "cell_type": "code",
   "execution_count": 14,
   "metadata": {},
   "outputs": [
    {
     "name": "stdout",
     "output_type": "stream",
     "text": [
      "Model: \"sequential\"\n",
      "_________________________________________________________________\n",
      " Layer (type)                Output Shape              Param #   \n",
      "=================================================================\n",
      " embedding (Embedding)       (None, 32, 16)            592       \n",
      "                                                                 \n",
      " lstm (LSTM)                 (None, 32, 256)           279552    \n",
      "                                                                 \n",
      " lstm_1 (LSTM)               (None, 32, 256)           525312    \n",
      "                                                                 \n",
      " dropout (Dropout)           (None, 32, 256)           0         \n",
      "                                                                 \n",
      " lstm_2 (LSTM)               (None, 32, 256)           525312    \n",
      "                                                                 \n",
      " simple_rnn (SimpleRNN)      (None, 32, 256)           131328    \n",
      "                                                                 \n",
      " simple_rnn_1 (SimpleRNN)    (None, 32, 256)           131328    \n",
      "                                                                 \n",
      " dense (Dense)               (None, 32, 37)            9509      \n",
      "                                                                 \n",
      "=================================================================\n",
      "Total params: 1,602,933\n",
      "Trainable params: 1,602,933\n",
      "Non-trainable params: 0\n",
      "_________________________________________________________________\n"
     ]
    }
   ],
   "source": [
    "with strategy.scope():\n",
    "    \n",
    "    model = make_model()\n",
    "    \n",
    "    model.summary()"
   ]
  },
  {
   "cell_type": "code",
   "execution_count": 15,
   "metadata": {},
   "outputs": [],
   "source": [
    "class CyclicLR(tf.keras.callbacks.Callback):\n",
    "    \n",
    "    def __init__(self,base_lr=1e-5,max_lr=1e-3,stepsize=10):\n",
    "        super().__init__()\n",
    "        \n",
    "        self.base_lr = base_lr\n",
    "        self.max_lr = max_lr\n",
    "        self.stepsize = stepsize\n",
    "        self.iterations = 0\n",
    "        self.history = {}\n",
    "        \n",
    "    def clr(self):\n",
    "        cycle = np.floor((1+self.iterations)/(2*self.stepsize))\n",
    "        x = np.abs(self.iterations/self.stepsize - 2*cycle + 1)\n",
    "        \n",
    "        return self.base_lr + (self.max_lr - self.base_lr)*(np.maximum(0,1-x))\n",
    "    \n",
    "    def on_train_begin(self,logs={}):\n",
    "        tf.keras.backend.set_value(self.model.optimizer.lr, self.base_lr)\n",
    "    \n",
    "    def on_batch_end(self,batch,logs=None):\n",
    "        logs = logs or {}\n",
    "        \n",
    "        self.iterations += 1\n",
    "        \n",
    "        self.history.setdefault('lr', []).append(tf.keras.backend.get_value(self.model.optimizer.lr))\n",
    "        self.history.setdefault('iterations', []).append(self.iterations)\n",
    "\n",
    "        for k, v in logs.items():\n",
    "            self.history.setdefault(k, []).append(v)\n",
    "        \n",
    "        tf.keras.backend.set_value(self.model.optimizer.lr, self.clr())\n",
    "        "
   ]
  },
  {
   "cell_type": "code",
   "execution_count": 16,
   "metadata": {},
   "outputs": [],
   "source": [
    "def generateName(model=model,seed_phrase=start_token,max_length=MAX_LENGTH):\n",
    "    \n",
    "    assert len(seed_phrase)<max_length, f\"Length of the Seed-phrase is more than Max-Length: {max_length}\"\n",
    "    \n",
    "    name = [seed_phrase]\n",
    "    x = np.zeros((1,max_length),np.int32)\n",
    "\n",
    "    x[0,0:len(seed_phrase)] = [token_to_id[token] for token in seed_phrase]\n",
    "    \n",
    "    for i in range(len(seed_phrase),max_length):\n",
    "                \n",
    "        probs = list(model.predict(x)[0,i-1])\n",
    "        \n",
    "        probs = probs/np.sum(probs)\n",
    "        \n",
    "        index = np.random.choice(range(n_tokens),p=probs)\n",
    "        \n",
    "        if index == token_to_id[pad_token]:\n",
    "            break\n",
    "            \n",
    "        x[0,i] = index\n",
    "        \n",
    "        name.append(tokens[index])\n",
    "    return \"\".join(name)"
   ]
  },
  {
   "cell_type": "code",
   "execution_count": 20,
   "metadata": {},
   "outputs": [
    {
     "name": "stdout",
     "output_type": "stream",
     "text": [
      "Epoch 1/100\n",
      "52/52 [==============================] - 18s 275ms/step - loss: 1.9513\n",
      "Epoch 2/100\n",
      "52/52 [==============================] - 15s 293ms/step - loss: 1.5572\n",
      "Epoch 3/100\n",
      "52/52 [==============================] - 15s 290ms/step - loss: 1.5112\n",
      "Epoch 4/100\n",
      "52/52 [==============================] - 15s 295ms/step - loss: 1.4815\n",
      "Epoch 5/100\n",
      "52/52 [==============================] - 17s 334ms/step - loss: 1.4549\n",
      "Epoch 6/100\n",
      "52/52 [==============================] - 17s 318ms/step - loss: 1.4320\n",
      "Epoch 7/100\n",
      "52/52 [==============================] - 19s 362ms/step - loss: 1.3998\n",
      "Epoch 8/100\n",
      "52/52 [==============================] - 22s 424ms/step - loss: 1.3613\n",
      "Epoch 9/100\n",
      "52/52 [==============================] - 18s 343ms/step - loss: 1.3233\n",
      "Epoch 10/100\n",
      "52/52 [==============================] - 17s 325ms/step - loss: 1.2954\n",
      "Epoch 11/100\n",
      "52/52 [==============================] - 15s 294ms/step - loss: 1.2733\n",
      "Epoch 12/100\n",
      "52/52 [==============================] - 15s 294ms/step - loss: 1.2559\n",
      "Epoch 13/100\n",
      "52/52 [==============================] - 15s 295ms/step - loss: 1.2438\n",
      "Epoch 14/100\n",
      "52/52 [==============================] - 15s 291ms/step - loss: 1.2319\n",
      "Epoch 15/100\n",
      "52/52 [==============================] - 15s 284ms/step - loss: 1.2231\n",
      "Epoch 16/100\n",
      "52/52 [==============================] - 14s 278ms/step - loss: 1.2166\n",
      "Epoch 17/100\n",
      "52/52 [==============================] - 15s 289ms/step - loss: 1.2099\n",
      "Epoch 18/100\n",
      "52/52 [==============================] - 15s 293ms/step - loss: 1.2036\n",
      "Epoch 19/100\n",
      "52/52 [==============================] - 15s 289ms/step - loss: 1.1939\n",
      "Epoch 20/100\n",
      "52/52 [==============================] - 15s 281ms/step - loss: 1.1868\n",
      "Epoch 21/100\n",
      "52/52 [==============================] - 15s 285ms/step - loss: 1.1813\n",
      "Epoch 22/100\n",
      "52/52 [==============================] - 15s 290ms/step - loss: 1.1765\n",
      "Epoch 23/100\n",
      "52/52 [==============================] - 15s 289ms/step - loss: 1.1726\n",
      "Epoch 24/100\n",
      "52/52 [==============================] - 15s 288ms/step - loss: 1.1686\n",
      "Epoch 25/100\n",
      "52/52 [==============================] - 15s 287ms/step - loss: 1.1669\n",
      "Epoch 26/100\n",
      "52/52 [==============================] - 15s 279ms/step - loss: 1.1653\n",
      "Epoch 27/100\n",
      "52/52 [==============================] - 15s 284ms/step - loss: 1.1648\n",
      "Epoch 28/100\n",
      "52/52 [==============================] - 15s 293ms/step - loss: 1.1618\n",
      "Epoch 29/100\n",
      "52/52 [==============================] - 15s 286ms/step - loss: 1.1605\n",
      "Epoch 30/100\n",
      "52/52 [==============================] - 15s 279ms/step - loss: 1.1586\n",
      "Epoch 31/100\n",
      "52/52 [==============================] - 17s 320ms/step - loss: 1.1582\n",
      "Epoch 32/100\n",
      "52/52 [==============================] - 18s 342ms/step - loss: 1.1574\n",
      "Epoch 33/100\n",
      "52/52 [==============================] - 16s 307ms/step - loss: 1.1545\n",
      "Epoch 34/100\n",
      "52/52 [==============================] - 16s 314ms/step - loss: 1.1546\n",
      "Epoch 35/100\n",
      "52/52 [==============================] - 17s 324ms/step - loss: 1.1520\n",
      "Epoch 36/100\n",
      "52/52 [==============================] - 16s 309ms/step - loss: 1.1503\n",
      "Epoch 37/100\n",
      "52/52 [==============================] - 18s 338ms/step - loss: 1.1493\n",
      "Epoch 38/100\n",
      "52/52 [==============================] - 15s 288ms/step - loss: 1.1488\n",
      "Epoch 39/100\n",
      "52/52 [==============================] - 15s 287ms/step - loss: 1.1460\n",
      "Epoch 40/100\n",
      "52/52 [==============================] - 15s 286ms/step - loss: 1.1432\n",
      "Epoch 41/100\n",
      "52/52 [==============================] - 15s 284ms/step - loss: 1.1420\n",
      "Epoch 42/100\n",
      "52/52 [==============================] - 15s 282ms/step - loss: 1.1387\n",
      "Epoch 43/100\n",
      "52/52 [==============================] - 15s 284ms/step - loss: 1.1343\n",
      "Epoch 44/100\n",
      "52/52 [==============================] - 15s 287ms/step - loss: 1.1310\n",
      "Epoch 45/100\n",
      "52/52 [==============================] - 15s 286ms/step - loss: 1.1269\n",
      "Epoch 46/100\n",
      "52/52 [==============================] - 15s 287ms/step - loss: 1.1224\n",
      "Epoch 47/100\n",
      "52/52 [==============================] - 15s 279ms/step - loss: 1.1177\n",
      "Epoch 48/100\n",
      "52/52 [==============================] - 14s 274ms/step - loss: 1.1126\n",
      "Epoch 49/100\n",
      "52/52 [==============================] - 14s 277ms/step - loss: 1.1089\n",
      "Epoch 50/100\n",
      "52/52 [==============================] - 15s 280ms/step - loss: 1.1036\n",
      "Epoch 51/100\n",
      "52/52 [==============================] - 15s 282ms/step - loss: 1.1010\n",
      "Epoch 52/100\n",
      "52/52 [==============================] - 15s 293ms/step - loss: 1.0996\n",
      "Epoch 53/100\n",
      "52/52 [==============================] - 19s 358ms/step - loss: 1.1003\n",
      "Epoch 54/100\n",
      "52/52 [==============================] - 17s 326ms/step - loss: 1.0951\n",
      "Epoch 55/100\n",
      "52/52 [==============================] - 15s 297ms/step - loss: 1.0906\n",
      "Epoch 56/100\n",
      "52/52 [==============================] - 15s 296ms/step - loss: 1.0888\n",
      "Epoch 57/100\n",
      "52/52 [==============================] - 16s 301ms/step - loss: 1.0870\n",
      "Epoch 58/100\n",
      "52/52 [==============================] - 15s 296ms/step - loss: 1.0847\n",
      "Epoch 59/100\n",
      "52/52 [==============================] - 15s 287ms/step - loss: 1.0827\n",
      "Epoch 60/100\n",
      "52/52 [==============================] - 15s 286ms/step - loss: 1.0813\n",
      "Epoch 61/100\n",
      "52/52 [==============================] - 15s 289ms/step - loss: 1.0793\n",
      "Epoch 62/100\n",
      "52/52 [==============================] - 15s 282ms/step - loss: 1.0769\n",
      "Epoch 63/100\n",
      "52/52 [==============================] - 14s 278ms/step - loss: 1.0764\n",
      "Epoch 64/100\n",
      "52/52 [==============================] - 15s 285ms/step - loss: 1.0752\n",
      "Epoch 65/100\n",
      "52/52 [==============================] - 15s 285ms/step - loss: 1.0732\n",
      "Epoch 66/100\n",
      "52/52 [==============================] - 15s 286ms/step - loss: 1.0711\n",
      "Epoch 67/100\n",
      "52/52 [==============================] - 15s 286ms/step - loss: 1.0701\n",
      "Epoch 68/100\n",
      "52/52 [==============================] - 15s 288ms/step - loss: 1.0680\n",
      "Epoch 69/100\n",
      "52/52 [==============================] - 15s 286ms/step - loss: 1.0690\n",
      "Epoch 70/100\n",
      "52/52 [==============================] - 15s 286ms/step - loss: 1.0653\n",
      "Epoch 71/100\n",
      "52/52 [==============================] - 15s 287ms/step - loss: 1.0643\n",
      "Epoch 72/100\n",
      "52/52 [==============================] - 15s 286ms/step - loss: 1.0618\n",
      "Epoch 73/100\n",
      "52/52 [==============================] - 15s 288ms/step - loss: 1.0602\n",
      "Epoch 74/100\n",
      "52/52 [==============================] - 15s 285ms/step - loss: 1.0594\n",
      "Epoch 75/100\n",
      "52/52 [==============================] - 15s 286ms/step - loss: 1.0580\n",
      "Epoch 76/100\n",
      "52/52 [==============================] - 15s 288ms/step - loss: 1.0566\n",
      "Epoch 77/100\n",
      "52/52 [==============================] - 15s 292ms/step - loss: 1.0545\n",
      "Epoch 78/100\n",
      "52/52 [==============================] - 15s 297ms/step - loss: 1.0513\n",
      "Epoch 79/100\n",
      "52/52 [==============================] - 20s 388ms/step - loss: 1.0502\n",
      "Epoch 80/100\n",
      "52/52 [==============================] - 16s 309ms/step - loss: 1.0501\n",
      "Epoch 81/100\n",
      "52/52 [==============================] - 16s 299ms/step - loss: 1.0476\n",
      "Epoch 82/100\n",
      "52/52 [==============================] - 15s 297ms/step - loss: 1.0466\n",
      "Epoch 83/100\n",
      "52/52 [==============================] - 15s 294ms/step - loss: 1.0449\n",
      "Epoch 84/100\n",
      "52/52 [==============================] - 15s 294ms/step - loss: 1.0419\n",
      "Epoch 85/100\n",
      "52/52 [==============================] - 15s 287ms/step - loss: 1.0398\n",
      "Epoch 86/100\n",
      "52/52 [==============================] - 16s 300ms/step - loss: 1.0387\n",
      "Epoch 87/100\n",
      "52/52 [==============================] - 17s 323ms/step - loss: 1.0373\n",
      "Epoch 88/100\n",
      "52/52 [==============================] - 16s 307ms/step - loss: 1.0360\n",
      "Epoch 89/100\n",
      "52/52 [==============================] - 17s 329ms/step - loss: 1.0336\n",
      "Epoch 90/100\n",
      "52/52 [==============================] - 16s 315ms/step - loss: 1.0328\n",
      "Epoch 91/100\n",
      "52/52 [==============================] - 16s 300ms/step - loss: 1.0309\n",
      "Epoch 92/100\n",
      "52/52 [==============================] - 17s 329ms/step - loss: 1.0283\n",
      "Epoch 93/100\n",
      "52/52 [==============================] - 16s 315ms/step - loss: 1.0273\n",
      "Epoch 94/100\n",
      "52/52 [==============================] - 17s 320ms/step - loss: 1.0245\n",
      "Epoch 95/100\n",
      "52/52 [==============================] - 16s 311ms/step - loss: 1.0222\n",
      "Epoch 96/100\n",
      "52/52 [==============================] - 17s 326ms/step - loss: 1.0218\n",
      "Epoch 97/100\n",
      "52/52 [==============================] - 16s 298ms/step - loss: 1.0200\n",
      "Epoch 98/100\n",
      "52/52 [==============================] - 16s 303ms/step - loss: 1.0174\n",
      "Epoch 99/100\n",
      "52/52 [==============================] - 16s 309ms/step - loss: 1.0151\n",
      "Epoch 100/100\n",
      "52/52 [==============================] - 16s 301ms/step - loss: 1.0122\n"
     ]
    }
   ],
   "source": [
    "cyclicLR = CyclicLR(base_lr=1e-4,max_lr=1e-3,stepsize=6000)\n",
    "\n",
    "EPOCHS = 100\n",
    "\n",
    "history = model.fit(train_dataset,steps_per_epoch=STEPS_PER_EPOCH,epochs=EPOCHS,callbacks=[cyclicLR])"
   ]
  },
  {
   "cell_type": "code",
   "execution_count": null,
   "metadata": {},
   "outputs": [],
   "source": [
    "fig = go.Figure()\n",
    "\n",
    "fig.add_trace(go.Scatter(x=np.arange(1,len(history.history['loss'])+1),\n",
    "                        y=history.history['loss'],\n",
    "                        mode='lines+markers',\n",
    "                        name='Training loss'))\n",
    "\n",
    "fig.update_layout(title_text=\"Training loss\")\n",
    "\n",
    "fig.show()"
   ]
  },
  {
   "cell_type": "code",
   "execution_count": 29,
   "metadata": {},
   "outputs": [],
   "source": [
    "weights = 'weights2/DragNames(2SimpleRNN1000).h5'"
   ]
  },
  {
   "cell_type": "code",
   "execution_count": 30,
   "metadata": {},
   "outputs": [],
   "source": [
    "model.save_weights(weights)"
   ]
  },
  {
   "cell_type": "code",
   "execution_count": 31,
   "metadata": {},
   "outputs": [],
   "source": [
    "predictor = make_model()"
   ]
  },
  {
   "cell_type": "code",
   "execution_count": 32,
   "metadata": {},
   "outputs": [],
   "source": [
    "\n",
    "predictor.load_weights(weights)"
   ]
  },
  {
   "cell_type": "code",
   "execution_count": 36,
   "metadata": {},
   "outputs": [],
   "source": [
    "\n",
    "name = [' ']\n",
    "x = np.zeros((1,32),np.int32)\n"
   ]
  },
  {
   "cell_type": "code",
   "execution_count": 48,
   "metadata": {},
   "outputs": [
    {
     "data": {
      "text/plain": [
       "18"
      ]
     },
     "execution_count": 48,
     "metadata": {},
     "output_type": "execute_result"
    }
   ],
   "source": [
    "probs = list(model.predict(x)[0,3])\n",
    "    \n",
    "probs = probs/np.sum(probs)\n",
    "index = np.random.choice(range(n_tokens),p=probs)\n"
   ]
  },
  {
   "cell_type": "code",
   "execution_count": 49,
   "metadata": {},
   "outputs": [
    {
     "data": {
      "text/plain": [
       "37"
      ]
     },
     "execution_count": 49,
     "metadata": {},
     "output_type": "execute_result"
    }
   ],
   "source": [
    "n_tokens"
   ]
  },
  {
   "cell_type": "code",
   "execution_count": 33,
   "metadata": {},
   "outputs": [
    {
     "name": "stdout",
     "output_type": "stream",
     "text": [
      "Bhitz\n",
      "Madka Kalles\n",
      "Sarlhas Miinmyslon\n",
      "Krhalass Ke Phe\n",
      "Carmew Virut\n",
      "Esyy\n",
      "Nani Stadr\n",
      "Zabeon Fareri\n",
      "Rilace Jagk\n",
      "Mer Sciont\n",
      "Kibbexnakte Ghar\n",
      "Salsenin Mioen\n",
      "Anba Petne\n",
      "Lirao Saasi\n",
      "Kalree Dofel\n",
      "Avi Mame\n",
      "Rogi E Clanes\n",
      "Shenah Vorvape\n",
      "Bechoene Ltiru\n",
      "Jalua Lana\n",
      "Gigen K Droer\n",
      "Voosmaa Iranfono Andeora\n",
      "Devin Hana\n",
      "Anmeera Dsan Hapqaan\n",
      "Duyli Lote\n",
      "Jeara Pami\n",
      "Loke Fend\n",
      "Lad Birod\n",
      "Amneny\n",
      "Pavivlawi Avhuawberke\n",
      "E\n",
      "Sacema Jivinre\n",
      "Pelldpie Nane Love\n",
      "Lenh\n",
      "Eypara Ganpo\n",
      "Mene Mensar\n",
      "Damparnota\n",
      "Dunby Ke Luorers\n",
      "Lagite Cormor\n",
      "Taltya Stawhan\n",
      "Lilia Durbel\n",
      "Lonal A Conxlo\n",
      "Chiodyt Pal\n",
      "Kusty Mlaeto\n",
      "Mubona Loi\n",
      "Laxuxga Minre\n"
     ]
    },
    {
     "ename": "KeyboardInterrupt",
     "evalue": "",
     "output_type": "error",
     "traceback": [
      "\u001b[0;31m---------------------------------------------------------------------------\u001b[0m",
      "\u001b[0;31mKeyboardInterrupt\u001b[0m                         Traceback (most recent call last)",
      "\u001b[0;32m<ipython-input-33-88371ab6d8a8>\u001b[0m in \u001b[0;36m<module>\u001b[0;34m\u001b[0m\n\u001b[1;32m      1\u001b[0m \u001b[0mseed_phrase\u001b[0m \u001b[0;34m=\u001b[0m \u001b[0;34m\" \"\u001b[0m\u001b[0;34m\u001b[0m\u001b[0;34m\u001b[0m\u001b[0m\n\u001b[1;32m      2\u001b[0m \u001b[0;32mfor\u001b[0m \u001b[0m_\u001b[0m \u001b[0;32min\u001b[0m \u001b[0mrange\u001b[0m\u001b[0;34m(\u001b[0m\u001b[0;36m100\u001b[0m\u001b[0;34m)\u001b[0m\u001b[0;34m:\u001b[0m\u001b[0;34m\u001b[0m\u001b[0;34m\u001b[0m\u001b[0m\n\u001b[0;32m----> 3\u001b[0;31m     \u001b[0mname\u001b[0m \u001b[0;34m=\u001b[0m \u001b[0mgenerateName\u001b[0m\u001b[0;34m(\u001b[0m\u001b[0mpredictor\u001b[0m\u001b[0;34m,\u001b[0m\u001b[0mseed_phrase\u001b[0m\u001b[0;34m=\u001b[0m\u001b[0mseed_phrase\u001b[0m\u001b[0;34m)\u001b[0m\u001b[0;34m.\u001b[0m\u001b[0msplit\u001b[0m\u001b[0;34m(\u001b[0m\u001b[0;34m\" \"\u001b[0m\u001b[0;34m)\u001b[0m\u001b[0;34m\u001b[0m\u001b[0;34m\u001b[0m\u001b[0m\n\u001b[0m\u001b[1;32m      4\u001b[0m     \u001b[0mcapitalized\u001b[0m \u001b[0;34m=\u001b[0m \u001b[0;34m[\u001b[0m\u001b[0mN\u001b[0m\u001b[0;34m.\u001b[0m\u001b[0mcapitalize\u001b[0m\u001b[0;34m(\u001b[0m\u001b[0;34m)\u001b[0m \u001b[0;32mfor\u001b[0m \u001b[0mN\u001b[0m \u001b[0;32min\u001b[0m \u001b[0mname\u001b[0m\u001b[0;34m]\u001b[0m\u001b[0;34m\u001b[0m\u001b[0;34m\u001b[0m\u001b[0m\n\u001b[1;32m      5\u001b[0m     \u001b[0mname\u001b[0m \u001b[0;34m=\u001b[0m \u001b[0;34m\" \"\u001b[0m\u001b[0;34m.\u001b[0m\u001b[0mjoin\u001b[0m\u001b[0;34m(\u001b[0m\u001b[0mcapitalized\u001b[0m\u001b[0;34m)\u001b[0m\u001b[0;34m\u001b[0m\u001b[0;34m\u001b[0m\u001b[0m\n",
      "\u001b[0;32m<ipython-input-16-6002c08ba6aa>\u001b[0m in \u001b[0;36mgenerateName\u001b[0;34m(model, seed_phrase, max_length)\u001b[0m\n\u001b[1;32m     10\u001b[0m     \u001b[0;32mfor\u001b[0m \u001b[0mi\u001b[0m \u001b[0;32min\u001b[0m \u001b[0mrange\u001b[0m\u001b[0;34m(\u001b[0m\u001b[0mlen\u001b[0m\u001b[0;34m(\u001b[0m\u001b[0mseed_phrase\u001b[0m\u001b[0;34m)\u001b[0m\u001b[0;34m,\u001b[0m\u001b[0mmax_length\u001b[0m\u001b[0;34m)\u001b[0m\u001b[0;34m:\u001b[0m\u001b[0;34m\u001b[0m\u001b[0;34m\u001b[0m\u001b[0m\n\u001b[1;32m     11\u001b[0m \u001b[0;34m\u001b[0m\u001b[0m\n\u001b[0;32m---> 12\u001b[0;31m         \u001b[0mprobs\u001b[0m \u001b[0;34m=\u001b[0m \u001b[0mlist\u001b[0m\u001b[0;34m(\u001b[0m\u001b[0mmodel\u001b[0m\u001b[0;34m.\u001b[0m\u001b[0mpredict\u001b[0m\u001b[0;34m(\u001b[0m\u001b[0mx\u001b[0m\u001b[0;34m)\u001b[0m\u001b[0;34m[\u001b[0m\u001b[0;36m0\u001b[0m\u001b[0;34m,\u001b[0m\u001b[0mi\u001b[0m\u001b[0;34m-\u001b[0m\u001b[0;36m1\u001b[0m\u001b[0;34m]\u001b[0m\u001b[0;34m)\u001b[0m\u001b[0;34m\u001b[0m\u001b[0;34m\u001b[0m\u001b[0m\n\u001b[0m\u001b[1;32m     13\u001b[0m \u001b[0;34m\u001b[0m\u001b[0m\n\u001b[1;32m     14\u001b[0m         \u001b[0mprobs\u001b[0m \u001b[0;34m=\u001b[0m \u001b[0mprobs\u001b[0m\u001b[0;34m/\u001b[0m\u001b[0mnp\u001b[0m\u001b[0;34m.\u001b[0m\u001b[0msum\u001b[0m\u001b[0;34m(\u001b[0m\u001b[0mprobs\u001b[0m\u001b[0;34m)\u001b[0m\u001b[0;34m\u001b[0m\u001b[0;34m\u001b[0m\u001b[0m\n",
      "\u001b[0;32m~/opt/anaconda3/lib/python3.8/site-packages/keras/utils/traceback_utils.py\u001b[0m in \u001b[0;36merror_handler\u001b[0;34m(*args, **kwargs)\u001b[0m\n\u001b[1;32m     62\u001b[0m     \u001b[0mfiltered_tb\u001b[0m \u001b[0;34m=\u001b[0m \u001b[0;32mNone\u001b[0m\u001b[0;34m\u001b[0m\u001b[0;34m\u001b[0m\u001b[0m\n\u001b[1;32m     63\u001b[0m     \u001b[0;32mtry\u001b[0m\u001b[0;34m:\u001b[0m\u001b[0;34m\u001b[0m\u001b[0;34m\u001b[0m\u001b[0m\n\u001b[0;32m---> 64\u001b[0;31m       \u001b[0;32mreturn\u001b[0m \u001b[0mfn\u001b[0m\u001b[0;34m(\u001b[0m\u001b[0;34m*\u001b[0m\u001b[0margs\u001b[0m\u001b[0;34m,\u001b[0m \u001b[0;34m**\u001b[0m\u001b[0mkwargs\u001b[0m\u001b[0;34m)\u001b[0m\u001b[0;34m\u001b[0m\u001b[0;34m\u001b[0m\u001b[0m\n\u001b[0m\u001b[1;32m     65\u001b[0m     \u001b[0;32mexcept\u001b[0m \u001b[0mException\u001b[0m \u001b[0;32mas\u001b[0m \u001b[0me\u001b[0m\u001b[0;34m:\u001b[0m  \u001b[0;31m# pylint: disable=broad-except\u001b[0m\u001b[0;34m\u001b[0m\u001b[0;34m\u001b[0m\u001b[0m\n\u001b[1;32m     66\u001b[0m       \u001b[0mfiltered_tb\u001b[0m \u001b[0;34m=\u001b[0m \u001b[0m_process_traceback_frames\u001b[0m\u001b[0;34m(\u001b[0m\u001b[0me\u001b[0m\u001b[0;34m.\u001b[0m\u001b[0m__traceback__\u001b[0m\u001b[0;34m)\u001b[0m\u001b[0;34m\u001b[0m\u001b[0;34m\u001b[0m\u001b[0m\n",
      "\u001b[0;32m~/opt/anaconda3/lib/python3.8/site-packages/keras/engine/training.py\u001b[0m in \u001b[0;36mpredict\u001b[0;34m(self, x, batch_size, verbose, steps, callbacks, max_queue_size, workers, use_multiprocessing)\u001b[0m\n\u001b[1;32m   1756\u001b[0m               stacklevel=2)\n\u001b[1;32m   1757\u001b[0m \u001b[0;34m\u001b[0m\u001b[0m\n\u001b[0;32m-> 1758\u001b[0;31m       data_handler = data_adapter.get_data_handler(\n\u001b[0m\u001b[1;32m   1759\u001b[0m           \u001b[0mx\u001b[0m\u001b[0;34m=\u001b[0m\u001b[0mx\u001b[0m\u001b[0;34m,\u001b[0m\u001b[0;34m\u001b[0m\u001b[0;34m\u001b[0m\u001b[0m\n\u001b[1;32m   1760\u001b[0m           \u001b[0mbatch_size\u001b[0m\u001b[0;34m=\u001b[0m\u001b[0mbatch_size\u001b[0m\u001b[0;34m,\u001b[0m\u001b[0;34m\u001b[0m\u001b[0;34m\u001b[0m\u001b[0m\n",
      "\u001b[0;32m~/opt/anaconda3/lib/python3.8/site-packages/keras/engine/data_adapter.py\u001b[0m in \u001b[0;36mget_data_handler\u001b[0;34m(*args, **kwargs)\u001b[0m\n\u001b[1;32m   1401\u001b[0m   \u001b[0;32mif\u001b[0m \u001b[0mgetattr\u001b[0m\u001b[0;34m(\u001b[0m\u001b[0mkwargs\u001b[0m\u001b[0;34m[\u001b[0m\u001b[0;34m\"model\"\u001b[0m\u001b[0;34m]\u001b[0m\u001b[0;34m,\u001b[0m \u001b[0;34m\"_cluster_coordinator\"\u001b[0m\u001b[0;34m,\u001b[0m \u001b[0;32mNone\u001b[0m\u001b[0;34m)\u001b[0m\u001b[0;34m:\u001b[0m\u001b[0;34m\u001b[0m\u001b[0;34m\u001b[0m\u001b[0m\n\u001b[1;32m   1402\u001b[0m     \u001b[0;32mreturn\u001b[0m \u001b[0m_ClusterCoordinatorDataHandler\u001b[0m\u001b[0;34m(\u001b[0m\u001b[0;34m*\u001b[0m\u001b[0margs\u001b[0m\u001b[0;34m,\u001b[0m \u001b[0;34m**\u001b[0m\u001b[0mkwargs\u001b[0m\u001b[0;34m)\u001b[0m\u001b[0;34m\u001b[0m\u001b[0;34m\u001b[0m\u001b[0m\n\u001b[0;32m-> 1403\u001b[0;31m   \u001b[0;32mreturn\u001b[0m \u001b[0mDataHandler\u001b[0m\u001b[0;34m(\u001b[0m\u001b[0;34m*\u001b[0m\u001b[0margs\u001b[0m\u001b[0;34m,\u001b[0m \u001b[0;34m**\u001b[0m\u001b[0mkwargs\u001b[0m\u001b[0;34m)\u001b[0m\u001b[0;34m\u001b[0m\u001b[0;34m\u001b[0m\u001b[0m\n\u001b[0m\u001b[1;32m   1404\u001b[0m \u001b[0;34m\u001b[0m\u001b[0m\n\u001b[1;32m   1405\u001b[0m \u001b[0;34m\u001b[0m\u001b[0m\n",
      "\u001b[0;32m~/opt/anaconda3/lib/python3.8/site-packages/keras/engine/data_adapter.py\u001b[0m in \u001b[0;36m__init__\u001b[0;34m(self, x, y, sample_weight, batch_size, steps_per_epoch, initial_epoch, epochs, shuffle, class_weight, max_queue_size, workers, use_multiprocessing, model, steps_per_execution, distribute)\u001b[0m\n\u001b[1;32m   1151\u001b[0m \u001b[0;34m\u001b[0m\u001b[0m\n\u001b[1;32m   1152\u001b[0m     \u001b[0madapter_cls\u001b[0m \u001b[0;34m=\u001b[0m \u001b[0mselect_data_adapter\u001b[0m\u001b[0;34m(\u001b[0m\u001b[0mx\u001b[0m\u001b[0;34m,\u001b[0m \u001b[0my\u001b[0m\u001b[0;34m)\u001b[0m\u001b[0;34m\u001b[0m\u001b[0;34m\u001b[0m\u001b[0m\n\u001b[0;32m-> 1153\u001b[0;31m     self._adapter = adapter_cls(\n\u001b[0m\u001b[1;32m   1154\u001b[0m         \u001b[0mx\u001b[0m\u001b[0;34m,\u001b[0m\u001b[0;34m\u001b[0m\u001b[0;34m\u001b[0m\u001b[0m\n\u001b[1;32m   1155\u001b[0m         \u001b[0my\u001b[0m\u001b[0;34m,\u001b[0m\u001b[0;34m\u001b[0m\u001b[0;34m\u001b[0m\u001b[0m\n",
      "\u001b[0;32m~/opt/anaconda3/lib/python3.8/site-packages/keras/engine/data_adapter.py\u001b[0m in \u001b[0;36m__init__\u001b[0;34m(self, x, y, sample_weights, sample_weight_modes, batch_size, epochs, steps, shuffle, **kwargs)\u001b[0m\n\u001b[1;32m    289\u001b[0m     \u001b[0;31m# trigger the next permutation. On the other hand, too many simultaneous\u001b[0m\u001b[0;34m\u001b[0m\u001b[0;34m\u001b[0m\u001b[0;34m\u001b[0m\u001b[0m\n\u001b[1;32m    290\u001b[0m     \u001b[0;31m# shuffles can contend on a hardware level and degrade all performance.\u001b[0m\u001b[0;34m\u001b[0m\u001b[0;34m\u001b[0m\u001b[0;34m\u001b[0m\u001b[0m\n\u001b[0;32m--> 291\u001b[0;31m     \u001b[0mindices_dataset\u001b[0m \u001b[0;34m=\u001b[0m \u001b[0mindices_dataset\u001b[0m\u001b[0;34m.\u001b[0m\u001b[0mmap\u001b[0m\u001b[0;34m(\u001b[0m\u001b[0mpermutation\u001b[0m\u001b[0;34m)\u001b[0m\u001b[0;34m.\u001b[0m\u001b[0mprefetch\u001b[0m\u001b[0;34m(\u001b[0m\u001b[0;36m1\u001b[0m\u001b[0;34m)\u001b[0m\u001b[0;34m\u001b[0m\u001b[0;34m\u001b[0m\u001b[0m\n\u001b[0m\u001b[1;32m    292\u001b[0m \u001b[0;34m\u001b[0m\u001b[0m\n\u001b[1;32m    293\u001b[0m     \u001b[0;32mdef\u001b[0m \u001b[0mslice_batch_indices\u001b[0m\u001b[0;34m(\u001b[0m\u001b[0mindices\u001b[0m\u001b[0;34m)\u001b[0m\u001b[0;34m:\u001b[0m\u001b[0;34m\u001b[0m\u001b[0;34m\u001b[0m\u001b[0m\n",
      "\u001b[0;32m~/opt/anaconda3/lib/python3.8/site-packages/tensorflow/python/data/ops/dataset_ops.py\u001b[0m in \u001b[0;36mmap\u001b[0;34m(self, map_func, num_parallel_calls, deterministic, name)\u001b[0m\n\u001b[1;32m   2002\u001b[0m         warnings.warn(\"The `deterministic` argument has no effect unless the \"\n\u001b[1;32m   2003\u001b[0m                       \"`num_parallel_calls` argument is specified.\")\n\u001b[0;32m-> 2004\u001b[0;31m       \u001b[0;32mreturn\u001b[0m \u001b[0mMapDataset\u001b[0m\u001b[0;34m(\u001b[0m\u001b[0mself\u001b[0m\u001b[0;34m,\u001b[0m \u001b[0mmap_func\u001b[0m\u001b[0;34m,\u001b[0m \u001b[0mpreserve_cardinality\u001b[0m\u001b[0;34m=\u001b[0m\u001b[0;32mTrue\u001b[0m\u001b[0;34m,\u001b[0m \u001b[0mname\u001b[0m\u001b[0;34m=\u001b[0m\u001b[0mname\u001b[0m\u001b[0;34m)\u001b[0m\u001b[0;34m\u001b[0m\u001b[0;34m\u001b[0m\u001b[0m\n\u001b[0m\u001b[1;32m   2005\u001b[0m     \u001b[0;32melse\u001b[0m\u001b[0;34m:\u001b[0m\u001b[0;34m\u001b[0m\u001b[0;34m\u001b[0m\u001b[0m\n\u001b[1;32m   2006\u001b[0m       return ParallelMapDataset(\n",
      "\u001b[0;32m~/opt/anaconda3/lib/python3.8/site-packages/tensorflow/python/data/ops/dataset_ops.py\u001b[0m in \u001b[0;36m__init__\u001b[0;34m(self, input_dataset, map_func, use_inter_op_parallelism, preserve_cardinality, use_legacy_function, name)\u001b[0m\n\u001b[1;32m   5453\u001b[0m     \u001b[0mself\u001b[0m\u001b[0;34m.\u001b[0m\u001b[0m_use_inter_op_parallelism\u001b[0m \u001b[0;34m=\u001b[0m \u001b[0muse_inter_op_parallelism\u001b[0m\u001b[0;34m\u001b[0m\u001b[0;34m\u001b[0m\u001b[0m\n\u001b[1;32m   5454\u001b[0m     \u001b[0mself\u001b[0m\u001b[0;34m.\u001b[0m\u001b[0m_preserve_cardinality\u001b[0m \u001b[0;34m=\u001b[0m \u001b[0mpreserve_cardinality\u001b[0m\u001b[0;34m\u001b[0m\u001b[0;34m\u001b[0m\u001b[0m\n\u001b[0;32m-> 5455\u001b[0;31m     self._map_func = StructuredFunctionWrapper(\n\u001b[0m\u001b[1;32m   5456\u001b[0m         \u001b[0mmap_func\u001b[0m\u001b[0;34m,\u001b[0m\u001b[0;34m\u001b[0m\u001b[0;34m\u001b[0m\u001b[0m\n\u001b[1;32m   5457\u001b[0m         \u001b[0mself\u001b[0m\u001b[0;34m.\u001b[0m\u001b[0m_transformation_name\u001b[0m\u001b[0;34m(\u001b[0m\u001b[0;34m)\u001b[0m\u001b[0;34m,\u001b[0m\u001b[0;34m\u001b[0m\u001b[0;34m\u001b[0m\u001b[0m\n",
      "\u001b[0;32m~/opt/anaconda3/lib/python3.8/site-packages/tensorflow/python/data/ops/dataset_ops.py\u001b[0m in \u001b[0;36m__init__\u001b[0;34m(self, func, transformation_name, dataset, input_classes, input_shapes, input_types, input_structure, add_to_graph, use_legacy_function, defun_kwargs)\u001b[0m\n\u001b[1;32m   4531\u001b[0m         \u001b[0mfn_factory\u001b[0m \u001b[0;34m=\u001b[0m \u001b[0mtrace_tf_function\u001b[0m\u001b[0;34m(\u001b[0m\u001b[0mdefun_kwargs\u001b[0m\u001b[0;34m)\u001b[0m\u001b[0;34m\u001b[0m\u001b[0;34m\u001b[0m\u001b[0m\n\u001b[1;32m   4532\u001b[0m \u001b[0;34m\u001b[0m\u001b[0m\n\u001b[0;32m-> 4533\u001b[0;31m     \u001b[0mself\u001b[0m\u001b[0;34m.\u001b[0m\u001b[0m_function\u001b[0m \u001b[0;34m=\u001b[0m \u001b[0mfn_factory\u001b[0m\u001b[0;34m(\u001b[0m\u001b[0;34m)\u001b[0m\u001b[0;34m\u001b[0m\u001b[0;34m\u001b[0m\u001b[0m\n\u001b[0m\u001b[1;32m   4534\u001b[0m     \u001b[0;31m# There is no graph to add in eager mode.\u001b[0m\u001b[0;34m\u001b[0m\u001b[0;34m\u001b[0m\u001b[0;34m\u001b[0m\u001b[0m\n\u001b[1;32m   4535\u001b[0m     \u001b[0madd_to_graph\u001b[0m \u001b[0;34m&=\u001b[0m \u001b[0;32mnot\u001b[0m \u001b[0mcontext\u001b[0m\u001b[0;34m.\u001b[0m\u001b[0mexecuting_eagerly\u001b[0m\u001b[0;34m(\u001b[0m\u001b[0;34m)\u001b[0m\u001b[0;34m\u001b[0m\u001b[0;34m\u001b[0m\u001b[0m\n",
      "\u001b[0;32m~/opt/anaconda3/lib/python3.8/site-packages/tensorflow/python/eager/function.py\u001b[0m in \u001b[0;36mget_concrete_function\u001b[0;34m(self, *args, **kwargs)\u001b[0m\n\u001b[1;32m   3242\u001b[0m          \u001b[0;32mor\u001b[0m\u001b[0;31m \u001b[0m\u001b[0;31m`\u001b[0m\u001b[0mtf\u001b[0m\u001b[0;34m.\u001b[0m\u001b[0mTensor\u001b[0m\u001b[0;31m`\u001b[0m \u001b[0;32mor\u001b[0m\u001b[0;31m \u001b[0m\u001b[0;31m`\u001b[0m\u001b[0mtf\u001b[0m\u001b[0;34m.\u001b[0m\u001b[0mTensorSpec\u001b[0m\u001b[0;31m`\u001b[0m\u001b[0;34m.\u001b[0m\u001b[0;34m\u001b[0m\u001b[0;34m\u001b[0m\u001b[0m\n\u001b[1;32m   3243\u001b[0m     \"\"\"\n\u001b[0;32m-> 3244\u001b[0;31m     graph_function = self._get_concrete_function_garbage_collected(\n\u001b[0m\u001b[1;32m   3245\u001b[0m         *args, **kwargs)\n\u001b[1;32m   3246\u001b[0m     \u001b[0mgraph_function\u001b[0m\u001b[0;34m.\u001b[0m\u001b[0m_garbage_collector\u001b[0m\u001b[0;34m.\u001b[0m\u001b[0mrelease\u001b[0m\u001b[0;34m(\u001b[0m\u001b[0;34m)\u001b[0m  \u001b[0;31m# pylint: disable=protected-access\u001b[0m\u001b[0;34m\u001b[0m\u001b[0;34m\u001b[0m\u001b[0m\n",
      "\u001b[0;32m~/opt/anaconda3/lib/python3.8/site-packages/tensorflow/python/eager/function.py\u001b[0m in \u001b[0;36m_get_concrete_function_garbage_collected\u001b[0;34m(self, *args, **kwargs)\u001b[0m\n\u001b[1;32m   3208\u001b[0m       \u001b[0margs\u001b[0m\u001b[0;34m,\u001b[0m \u001b[0mkwargs\u001b[0m \u001b[0;34m=\u001b[0m \u001b[0;32mNone\u001b[0m\u001b[0;34m,\u001b[0m \u001b[0;32mNone\u001b[0m\u001b[0;34m\u001b[0m\u001b[0;34m\u001b[0m\u001b[0m\n\u001b[1;32m   3209\u001b[0m     \u001b[0;32mwith\u001b[0m \u001b[0mself\u001b[0m\u001b[0;34m.\u001b[0m\u001b[0m_lock\u001b[0m\u001b[0;34m:\u001b[0m\u001b[0;34m\u001b[0m\u001b[0;34m\u001b[0m\u001b[0m\n\u001b[0;32m-> 3210\u001b[0;31m       \u001b[0mgraph_function\u001b[0m\u001b[0;34m,\u001b[0m \u001b[0m_\u001b[0m \u001b[0;34m=\u001b[0m \u001b[0mself\u001b[0m\u001b[0;34m.\u001b[0m\u001b[0m_maybe_define_function\u001b[0m\u001b[0;34m(\u001b[0m\u001b[0margs\u001b[0m\u001b[0;34m,\u001b[0m \u001b[0mkwargs\u001b[0m\u001b[0;34m)\u001b[0m\u001b[0;34m\u001b[0m\u001b[0;34m\u001b[0m\u001b[0m\n\u001b[0m\u001b[1;32m   3211\u001b[0m       \u001b[0mseen_names\u001b[0m \u001b[0;34m=\u001b[0m \u001b[0mset\u001b[0m\u001b[0;34m(\u001b[0m\u001b[0;34m)\u001b[0m\u001b[0;34m\u001b[0m\u001b[0;34m\u001b[0m\u001b[0m\n\u001b[1;32m   3212\u001b[0m       captured = object_identity.ObjectIdentitySet(\n",
      "\u001b[0;32m~/opt/anaconda3/lib/python3.8/site-packages/tensorflow/python/eager/function.py\u001b[0m in \u001b[0;36m_maybe_define_function\u001b[0;34m(self, args, kwargs)\u001b[0m\n\u001b[1;32m   3555\u001b[0m \u001b[0;34m\u001b[0m\u001b[0m\n\u001b[1;32m   3556\u001b[0m           \u001b[0mself\u001b[0m\u001b[0;34m.\u001b[0m\u001b[0m_function_cache\u001b[0m\u001b[0;34m.\u001b[0m\u001b[0mmissed\u001b[0m\u001b[0;34m.\u001b[0m\u001b[0madd\u001b[0m\u001b[0;34m(\u001b[0m\u001b[0mcall_context_key\u001b[0m\u001b[0;34m)\u001b[0m\u001b[0;34m\u001b[0m\u001b[0;34m\u001b[0m\u001b[0m\n\u001b[0;32m-> 3557\u001b[0;31m           \u001b[0mgraph_function\u001b[0m \u001b[0;34m=\u001b[0m \u001b[0mself\u001b[0m\u001b[0;34m.\u001b[0m\u001b[0m_create_graph_function\u001b[0m\u001b[0;34m(\u001b[0m\u001b[0margs\u001b[0m\u001b[0;34m,\u001b[0m \u001b[0mkwargs\u001b[0m\u001b[0;34m)\u001b[0m\u001b[0;34m\u001b[0m\u001b[0;34m\u001b[0m\u001b[0m\n\u001b[0m\u001b[1;32m   3558\u001b[0m           \u001b[0mself\u001b[0m\u001b[0;34m.\u001b[0m\u001b[0m_function_cache\u001b[0m\u001b[0;34m.\u001b[0m\u001b[0mprimary\u001b[0m\u001b[0;34m[\u001b[0m\u001b[0mcache_key\u001b[0m\u001b[0;34m]\u001b[0m \u001b[0;34m=\u001b[0m \u001b[0mgraph_function\u001b[0m\u001b[0;34m\u001b[0m\u001b[0;34m\u001b[0m\u001b[0m\n\u001b[1;32m   3559\u001b[0m \u001b[0;34m\u001b[0m\u001b[0m\n",
      "\u001b[0;32m~/opt/anaconda3/lib/python3.8/site-packages/tensorflow/python/eager/function.py\u001b[0m in \u001b[0;36m_create_graph_function\u001b[0;34m(self, args, kwargs, override_flat_arg_shapes)\u001b[0m\n\u001b[1;32m   3390\u001b[0m     \u001b[0marg_names\u001b[0m \u001b[0;34m=\u001b[0m \u001b[0mbase_arg_names\u001b[0m \u001b[0;34m+\u001b[0m \u001b[0mmissing_arg_names\u001b[0m\u001b[0;34m\u001b[0m\u001b[0;34m\u001b[0m\u001b[0m\n\u001b[1;32m   3391\u001b[0m     graph_function = ConcreteFunction(\n\u001b[0;32m-> 3392\u001b[0;31m         func_graph_module.func_graph_from_py_func(\n\u001b[0m\u001b[1;32m   3393\u001b[0m             \u001b[0mself\u001b[0m\u001b[0;34m.\u001b[0m\u001b[0m_name\u001b[0m\u001b[0;34m,\u001b[0m\u001b[0;34m\u001b[0m\u001b[0;34m\u001b[0m\u001b[0m\n\u001b[1;32m   3394\u001b[0m             \u001b[0mself\u001b[0m\u001b[0;34m.\u001b[0m\u001b[0m_python_function\u001b[0m\u001b[0;34m,\u001b[0m\u001b[0;34m\u001b[0m\u001b[0;34m\u001b[0m\u001b[0m\n",
      "\u001b[0;32m~/opt/anaconda3/lib/python3.8/site-packages/tensorflow/python/framework/func_graph.py\u001b[0m in \u001b[0;36mfunc_graph_from_py_func\u001b[0;34m(name, python_func, args, kwargs, signature, func_graph, autograph, autograph_options, add_control_dependencies, arg_names, op_return_value, collections, capture_by_value, override_flat_arg_shapes, acd_record_initial_resource_uses)\u001b[0m\n\u001b[1;32m   1141\u001b[0m         \u001b[0m_\u001b[0m\u001b[0;34m,\u001b[0m \u001b[0moriginal_func\u001b[0m \u001b[0;34m=\u001b[0m \u001b[0mtf_decorator\u001b[0m\u001b[0;34m.\u001b[0m\u001b[0munwrap\u001b[0m\u001b[0;34m(\u001b[0m\u001b[0mpython_func\u001b[0m\u001b[0;34m)\u001b[0m\u001b[0;34m\u001b[0m\u001b[0;34m\u001b[0m\u001b[0m\n\u001b[1;32m   1142\u001b[0m \u001b[0;34m\u001b[0m\u001b[0m\n\u001b[0;32m-> 1143\u001b[0;31m       \u001b[0mfunc_outputs\u001b[0m \u001b[0;34m=\u001b[0m \u001b[0mpython_func\u001b[0m\u001b[0;34m(\u001b[0m\u001b[0;34m*\u001b[0m\u001b[0mfunc_args\u001b[0m\u001b[0;34m,\u001b[0m \u001b[0;34m**\u001b[0m\u001b[0mfunc_kwargs\u001b[0m\u001b[0;34m)\u001b[0m\u001b[0;34m\u001b[0m\u001b[0;34m\u001b[0m\u001b[0m\n\u001b[0m\u001b[1;32m   1144\u001b[0m \u001b[0;34m\u001b[0m\u001b[0m\n\u001b[1;32m   1145\u001b[0m       \u001b[0;31m# invariant: `func_outputs` contains only Tensors, CompositeTensors,\u001b[0m\u001b[0;34m\u001b[0m\u001b[0;34m\u001b[0m\u001b[0;34m\u001b[0m\u001b[0m\n",
      "\u001b[0;32m~/opt/anaconda3/lib/python3.8/site-packages/tensorflow/python/data/ops/dataset_ops.py\u001b[0m in \u001b[0;36mwrapped_fn\u001b[0;34m(*args)\u001b[0m\n\u001b[1;32m   4508\u001b[0m           attributes=defun_kwargs)\n\u001b[1;32m   4509\u001b[0m       \u001b[0;32mdef\u001b[0m \u001b[0mwrapped_fn\u001b[0m\u001b[0;34m(\u001b[0m\u001b[0;34m*\u001b[0m\u001b[0margs\u001b[0m\u001b[0;34m)\u001b[0m\u001b[0;34m:\u001b[0m  \u001b[0;31m# pylint: disable=missing-docstring\u001b[0m\u001b[0;34m\u001b[0m\u001b[0;34m\u001b[0m\u001b[0m\n\u001b[0;32m-> 4510\u001b[0;31m         \u001b[0mret\u001b[0m \u001b[0;34m=\u001b[0m \u001b[0mwrapper_helper\u001b[0m\u001b[0;34m(\u001b[0m\u001b[0;34m*\u001b[0m\u001b[0margs\u001b[0m\u001b[0;34m)\u001b[0m\u001b[0;34m\u001b[0m\u001b[0;34m\u001b[0m\u001b[0m\n\u001b[0m\u001b[1;32m   4511\u001b[0m         \u001b[0mret\u001b[0m \u001b[0;34m=\u001b[0m \u001b[0mstructure\u001b[0m\u001b[0;34m.\u001b[0m\u001b[0mto_tensor_list\u001b[0m\u001b[0;34m(\u001b[0m\u001b[0mself\u001b[0m\u001b[0;34m.\u001b[0m\u001b[0m_output_structure\u001b[0m\u001b[0;34m,\u001b[0m \u001b[0mret\u001b[0m\u001b[0;34m)\u001b[0m\u001b[0;34m\u001b[0m\u001b[0;34m\u001b[0m\u001b[0m\n\u001b[1;32m   4512\u001b[0m         \u001b[0;32mreturn\u001b[0m \u001b[0;34m[\u001b[0m\u001b[0mops\u001b[0m\u001b[0;34m.\u001b[0m\u001b[0mconvert_to_tensor\u001b[0m\u001b[0;34m(\u001b[0m\u001b[0mt\u001b[0m\u001b[0;34m)\u001b[0m \u001b[0;32mfor\u001b[0m \u001b[0mt\u001b[0m \u001b[0;32min\u001b[0m \u001b[0mret\u001b[0m\u001b[0;34m]\u001b[0m\u001b[0;34m\u001b[0m\u001b[0;34m\u001b[0m\u001b[0m\n",
      "\u001b[0;32m~/opt/anaconda3/lib/python3.8/site-packages/tensorflow/python/data/ops/dataset_ops.py\u001b[0m in \u001b[0;36mwrapper_helper\u001b[0;34m(*args)\u001b[0m\n\u001b[1;32m   4438\u001b[0m       \u001b[0;32mif\u001b[0m \u001b[0;32mnot\u001b[0m \u001b[0m_should_unpack\u001b[0m\u001b[0;34m(\u001b[0m\u001b[0mnested_args\u001b[0m\u001b[0;34m)\u001b[0m\u001b[0;34m:\u001b[0m\u001b[0;34m\u001b[0m\u001b[0;34m\u001b[0m\u001b[0m\n\u001b[1;32m   4439\u001b[0m         \u001b[0mnested_args\u001b[0m \u001b[0;34m=\u001b[0m \u001b[0;34m(\u001b[0m\u001b[0mnested_args\u001b[0m\u001b[0;34m,\u001b[0m\u001b[0;34m)\u001b[0m\u001b[0;34m\u001b[0m\u001b[0;34m\u001b[0m\u001b[0m\n\u001b[0;32m-> 4440\u001b[0;31m       \u001b[0mret\u001b[0m \u001b[0;34m=\u001b[0m \u001b[0mautograph\u001b[0m\u001b[0;34m.\u001b[0m\u001b[0mtf_convert\u001b[0m\u001b[0;34m(\u001b[0m\u001b[0mself\u001b[0m\u001b[0;34m.\u001b[0m\u001b[0m_func\u001b[0m\u001b[0;34m,\u001b[0m \u001b[0mag_ctx\u001b[0m\u001b[0;34m)\u001b[0m\u001b[0;34m(\u001b[0m\u001b[0;34m*\u001b[0m\u001b[0mnested_args\u001b[0m\u001b[0;34m)\u001b[0m\u001b[0;34m\u001b[0m\u001b[0;34m\u001b[0m\u001b[0m\n\u001b[0m\u001b[1;32m   4441\u001b[0m       \u001b[0;32mif\u001b[0m \u001b[0m_should_pack\u001b[0m\u001b[0;34m(\u001b[0m\u001b[0mret\u001b[0m\u001b[0;34m)\u001b[0m\u001b[0;34m:\u001b[0m\u001b[0;34m\u001b[0m\u001b[0;34m\u001b[0m\u001b[0m\n\u001b[1;32m   4442\u001b[0m         \u001b[0mret\u001b[0m \u001b[0;34m=\u001b[0m \u001b[0mtuple\u001b[0m\u001b[0;34m(\u001b[0m\u001b[0mret\u001b[0m\u001b[0;34m)\u001b[0m\u001b[0;34m\u001b[0m\u001b[0;34m\u001b[0m\u001b[0m\n",
      "\u001b[0;32m~/opt/anaconda3/lib/python3.8/site-packages/tensorflow/python/autograph/impl/api.py\u001b[0m in \u001b[0;36mtf_convert\u001b[0;34m(f, ctx, convert_by_default, user_requested)\u001b[0m\n\u001b[1;32m    586\u001b[0m   \u001b[0;32melse\u001b[0m\u001b[0;34m:\u001b[0m\u001b[0;34m\u001b[0m\u001b[0;34m\u001b[0m\u001b[0m\n\u001b[1;32m    587\u001b[0m     \u001b[0;32massert\u001b[0m \u001b[0;32mFalse\u001b[0m\u001b[0;34m,\u001b[0m \u001b[0;34m'This switch contains all possible cases!'\u001b[0m\u001b[0;34m\u001b[0m\u001b[0;34m\u001b[0m\u001b[0m\n\u001b[0;32m--> 588\u001b[0;31m   \u001b[0mwrapper\u001b[0m \u001b[0;34m=\u001b[0m \u001b[0mwrapper_factory\u001b[0m\u001b[0;34m(\u001b[0m\u001b[0mf\u001b[0m\u001b[0;34m)\u001b[0m\u001b[0;34m\u001b[0m\u001b[0;34m\u001b[0m\u001b[0m\n\u001b[0m\u001b[1;32m    589\u001b[0m \u001b[0;34m\u001b[0m\u001b[0m\n\u001b[1;32m    590\u001b[0m   \u001b[0;32mif\u001b[0m \u001b[0mdecorators\u001b[0m\u001b[0;34m:\u001b[0m\u001b[0;34m\u001b[0m\u001b[0;34m\u001b[0m\u001b[0m\n",
      "\u001b[0;32m~/opt/anaconda3/lib/python3.8/site-packages/tensorflow/python/autograph/impl/api.py\u001b[0m in \u001b[0;36mdecorator\u001b[0;34m(f)\u001b[0m\n\u001b[1;32m    686\u001b[0m     \u001b[0;34m\"\"\"Decorator implementation.\"\"\"\u001b[0m\u001b[0;34m\u001b[0m\u001b[0;34m\u001b[0m\u001b[0m\n\u001b[1;32m    687\u001b[0m \u001b[0;34m\u001b[0m\u001b[0m\n\u001b[0;32m--> 688\u001b[0;31m     \u001b[0;32mdef\u001b[0m \u001b[0mwrapper\u001b[0m\u001b[0;34m(\u001b[0m\u001b[0;34m*\u001b[0m\u001b[0margs\u001b[0m\u001b[0;34m,\u001b[0m \u001b[0;34m**\u001b[0m\u001b[0mkwargs\u001b[0m\u001b[0;34m)\u001b[0m\u001b[0;34m:\u001b[0m\u001b[0;34m\u001b[0m\u001b[0;34m\u001b[0m\u001b[0m\n\u001b[0m\u001b[1;32m    689\u001b[0m       \u001b[0;34m\"\"\"Wrapper that calls the converted version of f.\"\"\"\u001b[0m\u001b[0;34m\u001b[0m\u001b[0;34m\u001b[0m\u001b[0m\n\u001b[1;32m    690\u001b[0m       options = converter.ConversionOptions(\n",
      "\u001b[0;31mKeyboardInterrupt\u001b[0m: "
     ]
    }
   ],
   "source": [
    "seed_phrase = \" \"\n",
    "for _ in range(100):\n",
    "    name = generateName(predictor,seed_phrase=seed_phrase).split(\" \")\n",
    "    capitalized = [N.capitalize() for N in name]\n",
    "    name = \" \".join(capitalized)\n",
    "    print(name.lstrip())"
   ]
  }
 ],
 "metadata": {
  "interpreter": {
   "hash": "e3ad0869ccbffe09a70220b35636623035a236c32668956465565088fb40c07a"
  },
  "kernelspec": {
   "display_name": "Python 3.8.8 ('base')",
   "language": "python",
   "name": "python3"
  },
  "language_info": {
   "codemirror_mode": {
    "name": "ipython",
    "version": 3
   },
   "file_extension": ".py",
   "mimetype": "text/x-python",
   "name": "python",
   "nbconvert_exporter": "python",
   "pygments_lexer": "ipython3",
   "version": "3.8.8"
  },
  "orig_nbformat": 4
 },
 "nbformat": 4,
 "nbformat_minor": 2
}
